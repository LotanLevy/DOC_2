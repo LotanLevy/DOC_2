{
  "nbformat": 4,
  "nbformat_minor": 0,
  "metadata": {
    "colab": {
      "name": "Untitled4.ipynb",
      "provenance": [],
      "authorship_tag": "ABX9TyOTt8rth2mN41GeV+xhSh0j",
      "include_colab_link": true
    },
    "kernelspec": {
      "name": "python3",
      "display_name": "Python 3"
    },
    "accelerator": "GPU"
  },
  "cells": [
    {
      "cell_type": "markdown",
      "metadata": {
        "id": "view-in-github",
        "colab_type": "text"
      },
      "source": [
        "<a href=\"https://colab.research.google.com/github/LotanLevy/DOC_2/blob/master/DOC.ipynb\" target=\"_parent\"><img src=\"https://colab.research.google.com/assets/colab-badge.svg\" alt=\"Open In Colab\"/></a>"
      ]
    },
    {
      "cell_type": "code",
      "metadata": {
        "id": "djYd1a-XdqQ-",
        "colab_type": "code",
        "colab": {}
      },
      "source": [
        "pip install tensorflow-gpu==2.0.0"
      ],
      "execution_count": null,
      "outputs": []
    },
    {
      "cell_type": "code",
      "metadata": {
        "id": "8IX3PyeBdvCE",
        "colab_type": "code",
        "colab": {}
      },
      "source": [
        "!git clone https://github.com/LotanLevy/DOC_2"
      ],
      "execution_count": null,
      "outputs": []
    },
    {
      "cell_type": "code",
      "metadata": {
        "id": "PhBHKuVmdvOP",
        "colab_type": "code",
        "colab": {
          "base_uri": "https://localhost:8080/",
          "height": 34
        },
        "outputId": "64bee831-af49-4ebc-8acc-fbdfa825c058"
      },
      "source": [
        "cd DOC_2/"
      ],
      "execution_count": 4,
      "outputs": [
        {
          "output_type": "stream",
          "text": [
            "/content/DOC_2\n"
          ],
          "name": "stdout"
        }
      ]
    },
    {
      "cell_type": "code",
      "metadata": {
        "id": "MM0v4BJddvWf",
        "colab_type": "code",
        "colab": {
          "base_uri": "https://localhost:8080/",
          "height": 51
        },
        "outputId": "0ff7114b-bbeb-43a5-9cb8-c6d613aacb49"
      },
      "source": [
        "!git pull\n",
        "from google.colab import drive\n",
        "drive.mount('/content/drive')"
      ],
      "execution_count": 12,
      "outputs": [
        {
          "output_type": "stream",
          "text": [
            "Already up to date.\n",
            "Drive already mounted at /content/drive; to attempt to forcibly remount, call drive.mount(\"/content/drive\", force_remount=True).\n"
          ],
          "name": "stdout"
        }
      ]
    },
    {
      "cell_type": "code",
      "metadata": {
        "id": "5LP2CAa4igwo",
        "colab_type": "code",
        "colab": {
          "base_uri": "https://localhost:8080/",
          "height": 1000
        },
        "outputId": "bc31cfc1-18a4-406b-a0a1-ff0a93c628ca"
      },
      "source": [
        "!python imagenet_fine_tuning.py -iter=100 --print_freq=10  -bs=2 --output_path=\"/content/drive/My Drive/Colab Notebooks/affordances/Experiments/e6\" --ref_train_path=\"/content/drive/My Drive/Colab Notebooks/affordances/datasets/ImageNet/outputs/train.txt\" --ref_val_path=\"/content/drive/My Drive/Colab Notebooks/affordances/datasets/ImageNet/outputs/val.txt\" --ref_test_path=\"/content/drive/My Drive/Colab Notebooks/affordances/datasets/ImageNet/outputs/val.txt\" --tar_train_path=\"/content/drive/My Drive/Colab Notebooks/affordances/datasets/Caltech_256/output/train.txt\" --tar_val_path=\"/content/drive/My Drive/Colab Notebooks/affordances/datasets/Caltech_256/output/train.txt\" --tar_test_path=\"/content/drive/My Drive/Colab Notebooks/affordances/datasets/Caltech_256/output/test.txt\""
      ],
      "execution_count": 14,
      "outputs": [
        {
          "output_type": "stream",
          "text": [
            "2020-07-07 09:30:29.327494: I tensorflow/stream_executor/platform/default/dso_loader.cc:44] Successfully opened dynamic library libcuda.so.1\n",
            "2020-07-07 09:30:29.352340: I tensorflow/stream_executor/cuda/cuda_gpu_executor.cc:1006] successful NUMA node read from SysFS had negative value (-1), but there must be at least one NUMA node, so returning NUMA node zero\n",
            "2020-07-07 09:30:29.353093: I tensorflow/core/common_runtime/gpu/gpu_device.cc:1618] Found device 0 with properties: \n",
            "name: Tesla K80 major: 3 minor: 7 memoryClockRate(GHz): 0.8235\n",
            "pciBusID: 0000:00:04.0\n",
            "2020-07-07 09:30:29.353426: I tensorflow/stream_executor/platform/default/dso_loader.cc:44] Successfully opened dynamic library libcudart.so.10.0\n",
            "2020-07-07 09:30:29.355009: I tensorflow/stream_executor/platform/default/dso_loader.cc:44] Successfully opened dynamic library libcublas.so.10.0\n",
            "2020-07-07 09:30:29.357353: I tensorflow/stream_executor/platform/default/dso_loader.cc:44] Successfully opened dynamic library libcufft.so.10.0\n",
            "2020-07-07 09:30:29.358069: I tensorflow/stream_executor/platform/default/dso_loader.cc:44] Successfully opened dynamic library libcurand.so.10.0\n",
            "2020-07-07 09:30:29.360052: I tensorflow/stream_executor/platform/default/dso_loader.cc:44] Successfully opened dynamic library libcusolver.so.10.0\n",
            "2020-07-07 09:30:29.361465: I tensorflow/stream_executor/platform/default/dso_loader.cc:44] Successfully opened dynamic library libcusparse.so.10.0\n",
            "2020-07-07 09:30:29.365670: I tensorflow/stream_executor/platform/default/dso_loader.cc:44] Successfully opened dynamic library libcudnn.so.7\n",
            "2020-07-07 09:30:29.365804: I tensorflow/stream_executor/cuda/cuda_gpu_executor.cc:1006] successful NUMA node read from SysFS had negative value (-1), but there must be at least one NUMA node, so returning NUMA node zero\n",
            "2020-07-07 09:30:29.366573: I tensorflow/stream_executor/cuda/cuda_gpu_executor.cc:1006] successful NUMA node read from SysFS had negative value (-1), but there must be at least one NUMA node, so returning NUMA node zero\n",
            "2020-07-07 09:30:29.367412: I tensorflow/core/common_runtime/gpu/gpu_device.cc:1746] Adding visible gpu devices: 0\n",
            "2020-07-07 09:30:29.367741: I tensorflow/core/platform/cpu_feature_guard.cc:142] Your CPU supports instructions that this TensorFlow binary was not compiled to use: AVX2 FMA\n",
            "2020-07-07 09:30:29.374497: I tensorflow/core/platform/profile_utils/cpu_utils.cc:94] CPU Frequency: 2200000000 Hz\n",
            "2020-07-07 09:30:29.374768: I tensorflow/compiler/xla/service/service.cc:168] XLA service 0x1a892c0 executing computations on platform Host. Devices:\n",
            "2020-07-07 09:30:29.374821: I tensorflow/compiler/xla/service/service.cc:175]   StreamExecutor device (0): Host, Default Version\n",
            "2020-07-07 09:30:29.429151: I tensorflow/stream_executor/cuda/cuda_gpu_executor.cc:1006] successful NUMA node read from SysFS had negative value (-1), but there must be at least one NUMA node, so returning NUMA node zero\n",
            "2020-07-07 09:30:29.430137: I tensorflow/compiler/xla/service/service.cc:168] XLA service 0x5d83500 executing computations on platform CUDA. Devices:\n",
            "2020-07-07 09:30:29.430171: I tensorflow/compiler/xla/service/service.cc:175]   StreamExecutor device (0): Tesla K80, Compute Capability 3.7\n",
            "2020-07-07 09:30:29.430386: I tensorflow/stream_executor/cuda/cuda_gpu_executor.cc:1006] successful NUMA node read from SysFS had negative value (-1), but there must be at least one NUMA node, so returning NUMA node zero\n",
            "2020-07-07 09:30:29.431079: I tensorflow/core/common_runtime/gpu/gpu_device.cc:1618] Found device 0 with properties: \n",
            "name: Tesla K80 major: 3 minor: 7 memoryClockRate(GHz): 0.8235\n",
            "pciBusID: 0000:00:04.0\n",
            "2020-07-07 09:30:29.431143: I tensorflow/stream_executor/platform/default/dso_loader.cc:44] Successfully opened dynamic library libcudart.so.10.0\n",
            "2020-07-07 09:30:29.431181: I tensorflow/stream_executor/platform/default/dso_loader.cc:44] Successfully opened dynamic library libcublas.so.10.0\n",
            "2020-07-07 09:30:29.431219: I tensorflow/stream_executor/platform/default/dso_loader.cc:44] Successfully opened dynamic library libcufft.so.10.0\n",
            "2020-07-07 09:30:29.431261: I tensorflow/stream_executor/platform/default/dso_loader.cc:44] Successfully opened dynamic library libcurand.so.10.0\n",
            "2020-07-07 09:30:29.431372: I tensorflow/stream_executor/platform/default/dso_loader.cc:44] Successfully opened dynamic library libcusolver.so.10.0\n",
            "2020-07-07 09:30:29.431411: I tensorflow/stream_executor/platform/default/dso_loader.cc:44] Successfully opened dynamic library libcusparse.so.10.0\n",
            "2020-07-07 09:30:29.431478: I tensorflow/stream_executor/platform/default/dso_loader.cc:44] Successfully opened dynamic library libcudnn.so.7\n",
            "2020-07-07 09:30:29.431577: I tensorflow/stream_executor/cuda/cuda_gpu_executor.cc:1006] successful NUMA node read from SysFS had negative value (-1), but there must be at least one NUMA node, so returning NUMA node zero\n",
            "2020-07-07 09:30:29.432380: I tensorflow/stream_executor/cuda/cuda_gpu_executor.cc:1006] successful NUMA node read from SysFS had negative value (-1), but there must be at least one NUMA node, so returning NUMA node zero\n",
            "2020-07-07 09:30:29.433025: I tensorflow/core/common_runtime/gpu/gpu_device.cc:1746] Adding visible gpu devices: 0\n",
            "2020-07-07 09:30:29.433088: I tensorflow/stream_executor/platform/default/dso_loader.cc:44] Successfully opened dynamic library libcudart.so.10.0\n",
            "2020-07-07 09:30:29.434468: I tensorflow/core/common_runtime/gpu/gpu_device.cc:1159] Device interconnect StreamExecutor with strength 1 edge matrix:\n",
            "2020-07-07 09:30:29.434501: I tensorflow/core/common_runtime/gpu/gpu_device.cc:1165]      0 \n",
            "2020-07-07 09:30:29.434517: I tensorflow/core/common_runtime/gpu/gpu_device.cc:1178] 0:   N \n",
            "2020-07-07 09:30:29.434683: I tensorflow/stream_executor/cuda/cuda_gpu_executor.cc:1006] successful NUMA node read from SysFS had negative value (-1), but there must be at least one NUMA node, so returning NUMA node zero\n",
            "2020-07-07 09:30:29.435360: I tensorflow/stream_executor/cuda/cuda_gpu_executor.cc:1006] successful NUMA node read from SysFS had negative value (-1), but there must be at least one NUMA node, so returning NUMA node zero\n",
            "2020-07-07 09:30:29.436074: W tensorflow/core/common_runtime/gpu/gpu_bfc_allocator.cc:39] Overriding allow_growth setting because the TF_FORCE_GPU_ALLOW_GROWTH environment variable is set. Original config value was 0.\n",
            "2020-07-07 09:30:29.436121: I tensorflow/core/common_runtime/gpu/gpu_device.cc:1304] Created TensorFlow device (/job:localhost/replica:0/task:0/device:GPU:0 with 10805 MB memory) -> physical GPU (device: 0, name: Tesla K80, pci bus id: 0000:00:04.0, compute capability: 3.7)\n",
            "Model: \"vgg16\"\n",
            "_________________________________________________________________\n",
            "Layer (type)                 Output Shape              Param #   \n",
            "=================================================================\n",
            "input_1 (InputLayer)         [(None, 224, 224, 3)]     0         \n",
            "_________________________________________________________________\n",
            "block1_conv1 (Conv2D)        (None, 224, 224, 64)      1792      \n",
            "_________________________________________________________________\n",
            "block1_conv2 (Conv2D)        (None, 224, 224, 64)      36928     \n",
            "_________________________________________________________________\n",
            "block1_pool (MaxPooling2D)   (None, 112, 112, 64)      0         \n",
            "_________________________________________________________________\n",
            "block2_conv1 (Conv2D)        (None, 112, 112, 128)     73856     \n",
            "_________________________________________________________________\n",
            "block2_conv2 (Conv2D)        (None, 112, 112, 128)     147584    \n",
            "_________________________________________________________________\n",
            "block2_pool (MaxPooling2D)   (None, 56, 56, 128)       0         \n",
            "_________________________________________________________________\n",
            "block3_conv1 (Conv2D)        (None, 56, 56, 256)       295168    \n",
            "_________________________________________________________________\n",
            "block3_conv2 (Conv2D)        (None, 56, 56, 256)       590080    \n",
            "_________________________________________________________________\n",
            "block3_conv3 (Conv2D)        (None, 56, 56, 256)       590080    \n",
            "_________________________________________________________________\n",
            "block3_pool (MaxPooling2D)   (None, 28, 28, 256)       0         \n",
            "_________________________________________________________________\n",
            "block4_conv1 (Conv2D)        (None, 28, 28, 512)       1180160   \n",
            "_________________________________________________________________\n",
            "block4_conv2 (Conv2D)        (None, 28, 28, 512)       2359808   \n",
            "_________________________________________________________________\n",
            "block4_conv3 (Conv2D)        (None, 28, 28, 512)       2359808   \n",
            "_________________________________________________________________\n",
            "block4_pool (MaxPooling2D)   (None, 14, 14, 512)       0         \n",
            "_________________________________________________________________\n",
            "block5_conv1 (Conv2D)        (None, 14, 14, 512)       2359808   \n",
            "_________________________________________________________________\n",
            "block5_conv2 (Conv2D)        (None, 14, 14, 512)       2359808   \n",
            "_________________________________________________________________\n",
            "block5_conv3 (Conv2D)        (None, 14, 14, 512)       2359808   \n",
            "_________________________________________________________________\n",
            "block5_pool (MaxPooling2D)   (None, 7, 7, 512)         0         \n",
            "_________________________________________________________________\n",
            "flatten (Flatten)            (None, 25088)             0         \n",
            "_________________________________________________________________\n",
            "fc1 (Dense)                  (None, 4096)              102764544 \n",
            "_________________________________________________________________\n",
            "fc2 (Dense)                  (None, 4096)              16781312  \n",
            "_________________________________________________________________\n",
            "predictions (Dense)          (None, 1000)              4097000   \n",
            "=================================================================\n",
            "Total params: 138,357,544\n",
            "Trainable params: 138,357,544\n",
            "Non-trainable params: 0\n",
            "_________________________________________________________________\n",
            "layer input_1 is trainable False\n",
            "layer block1_conv1 is trainable False\n",
            "layer block1_conv2 is trainable False\n",
            "layer block1_pool is trainable False\n",
            "layer block2_conv1 is trainable False\n",
            "layer block2_conv2 is trainable False\n",
            "layer block2_pool is trainable False\n",
            "layer block3_conv1 is trainable False\n",
            "layer block3_conv2 is trainable False\n",
            "layer block3_conv3 is trainable False\n",
            "layer block3_pool is trainable False\n",
            "layer block4_conv1 is trainable False\n",
            "layer block4_conv2 is trainable False\n",
            "layer block4_conv3 is trainable False\n",
            "layer block4_pool is trainable False\n",
            "layer block5_conv1 is trainable False\n",
            "layer block5_conv2 is trainable False\n",
            "layer block5_conv3 is trainable False\n",
            "layer block5_pool is trainable False\n",
            "layer flatten is trainable True\n",
            "layer fc1 is trainable True\n",
            "layer fc2 is trainable True\n",
            "layer predictions is trainable True\n",
            "WARNING:tensorflow:Layer perceptual_model is casting an input tensor from dtype float64 to the layer's dtype of float32, which is new behavior in TensorFlow 2.  The layer has dtype float32 because it's dtype defaults to floatx.\n",
            "\n",
            "If you intended to run this layer in float32, you can safely ignore this warning. If in doubt, this warning is likely only an issue if you are porting a TensorFlow 1.X model to TensorFlow 2.\n",
            "\n",
            "To change all layers to have dtype float64 by default, call `tf.keras.backend.set_floatx('float64')`. To change just this layer, pass dtype='float64' to the layer constructor. If you are the author of this layer, you can disable autocasting by passing autocast=False to the base Layer constructor.\n",
            "\n",
            "2020-07-07 09:30:33.800620: I tensorflow/stream_executor/platform/default/dso_loader.cc:44] Successfully opened dynamic library libcudnn.so.7\n",
            "2020-07-07 09:30:35.176113: I tensorflow/stream_executor/platform/default/dso_loader.cc:44] Successfully opened dynamic library libcublas.so.10.0\n",
            "WARNING:tensorflow:Entity <bound method PerceptualModel.call of <Networks.PerceptualModel.PerceptualModel object at 0x7f3487ddc860>> could not be transformed and will be executed as-is. Please report this to the AutoGraph team. When filing the bug, set the verbosity to 10 (on Linux, `export AUTOGRAPH_VERBOSITY=10`) and attach the full output. Cause: Mangled names are not yet supported by AutoGraph\n",
            "WARNING:tensorflow:Entity <bound method PerceptualModel.call of <Networks.PerceptualModel.PerceptualModel object at 0x7f3487ddc860>> could not be transformed and will be executed as-is. Please report this to the AutoGraph team. When filing the bug, set the verbosity to 10 (on Linux, `export AUTOGRAPH_VERBOSITY=10`) and attach the full output. Cause: Mangled names are not yet supported by AutoGraph\n",
            "WARNING:tensorflow:Entity <bound method PerceptualModel.call of <Networks.PerceptualModel.PerceptualModel object at 0x7f3487ddc860>> could not be transformed and will be executed as-is. Please report this to the AutoGraph team. When filing the bug, set the verbosity to 10 (on Linux, `export AUTOGRAPH_VERBOSITY=10`) and attach the full output. Cause: Mangled names are not yet supported by AutoGraph\n",
            "WARNING:tensorflow:Entity <bound method PerceptualModel.call of <Networks.PerceptualModel.PerceptualModel object at 0x7f3487ddc860>> could not be transformed and will be executed as-is. Please report this to the AutoGraph team. When filing the bug, set the verbosity to 10 (on Linux, `export AUTOGRAPH_VERBOSITY=10`) and attach the full output. Cause: Mangled names are not yet supported by AutoGraph\n",
            "WARNING:tensorflow:Entity <bound method PerceptualModel.call of <Networks.PerceptualModel.PerceptualModel object at 0x7f3487ddc860>> could not be transformed and will be executed as-is. Please report this to the AutoGraph team. When filing the bug, set the verbosity to 10 (on Linux, `export AUTOGRAPH_VERBOSITY=10`) and attach the full output. Cause: Mangled names are not yet supported by AutoGraph\n",
            "WARNING:tensorflow:Entity <bound method PerceptualModel.call of <Networks.PerceptualModel.PerceptualModel object at 0x7f3487ddc860>> could not be transformed and will be executed as-is. Please report this to the AutoGraph team. When filing the bug, set the verbosity to 10 (on Linux, `export AUTOGRAPH_VERBOSITY=10`) and attach the full output. Cause: Mangled names are not yet supported by AutoGraph\n",
            "iteration 1 - train :D loss 0.8275952339172363, C loss 0.3715254068374634, val :D loss 22.557613372802734, C loss 0.08186225593090057\n",
            "iteration 11 - train :D loss 6.508098125457764, C loss 0.12014181166887283, val :D loss 15.940962791442871, C loss 0.29400181770324707\n",
            "iteration 21 - train :D loss 5.87878942489624, C loss 0.1280190646648407, val :D loss 12.204890251159668, C loss 0.19686321914196014\n",
            "iteration 31 - train :D loss 5.3733015060424805, C loss 0.12300321459770203, val :D loss 9.472423553466797, C loss 0.24278268218040466\n",
            "iteration 41 - train :D loss 5.490489959716797, C loss 0.10429484397172928, val :D loss 8.606698989868164, C loss 0.19422616064548492\n",
            "iteration 51 - train :D loss 5.387217044830322, C loss 0.08655980974435806, val :D loss 7.768398761749268, C loss 0.16278257966041565\n",
            "iteration 61 - train :D loss 5.368165016174316, C loss 0.08500245958566666, val :D loss 7.209853649139404, C loss 0.1395663321018219\n",
            "iteration 71 - train :D loss 5.4634528160095215, C loss 0.09599346667528152, val :D loss 6.752752304077148, C loss 0.13521850109100342\n",
            "iteration 81 - train :D loss 5.548552513122559, C loss 0.09939484298229218, val :D loss 6.74246883392334, C loss 0.14194539189338684\n",
            "iteration 91 - train :D loss 5.530084133148193, C loss 0.10437333583831787, val :D loss 6.726436614990234, C loss 0.16335229575634003\n"
          ],
          "name": "stdout"
        }
      ]
    }
  ]
}